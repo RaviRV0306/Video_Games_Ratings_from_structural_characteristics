{
 "cells": [
  {
   "cell_type": "markdown",
   "id": "6087dd8f",
   "metadata": {},
   "source": [
    "# Import Libraries"
   ]
  },
  {
   "cell_type": "code",
   "execution_count": 1,
   "id": "dc8875d5",
   "metadata": {},
   "outputs": [],
   "source": [
    "import pandas as pd\n",
    "import numpy as np\n",
    "from matplotlib import pyplot as plt\n",
    "import seaborn as sns\n",
    "import warnings\n",
    "warnings.filterwarnings('ignore')\n"
   ]
  },
  {
   "cell_type": "markdown",
   "id": "6a8d28b0",
   "metadata": {},
   "source": [
    "# Import Data"
   ]
  },
  {
   "cell_type": "code",
   "execution_count": 2,
   "id": "5e297b9c",
   "metadata": {},
   "outputs": [],
   "source": [
    "games=pd.read_csv(r\"D:\\Data Analyst\\Projects\\all_games.csv\")"
   ]
  },
  {
   "cell_type": "code",
   "execution_count": 3,
   "id": "c4ce648c",
   "metadata": {},
   "outputs": [
    {
     "data": {
      "text/html": [
       "<div>\n",
       "<style scoped>\n",
       "    .dataframe tbody tr th:only-of-type {\n",
       "        vertical-align: middle;\n",
       "    }\n",
       "\n",
       "    .dataframe tbody tr th {\n",
       "        vertical-align: top;\n",
       "    }\n",
       "\n",
       "    .dataframe thead th {\n",
       "        text-align: right;\n",
       "    }\n",
       "</style>\n",
       "<table border=\"1\" class=\"dataframe\">\n",
       "  <thead>\n",
       "    <tr style=\"text-align: right;\">\n",
       "      <th></th>\n",
       "      <th>name</th>\n",
       "      <th>platform</th>\n",
       "      <th>release_date</th>\n",
       "      <th>summary</th>\n",
       "      <th>meta_score</th>\n",
       "      <th>user_review</th>\n",
       "    </tr>\n",
       "  </thead>\n",
       "  <tbody>\n",
       "    <tr>\n",
       "      <th>0</th>\n",
       "      <td>The Legend of Zelda: Ocarina of Time</td>\n",
       "      <td>Nintendo 64</td>\n",
       "      <td>November 23, 1998</td>\n",
       "      <td>As a young boy, Link is tricked by Ganondorf, ...</td>\n",
       "      <td>99</td>\n",
       "      <td>9.1</td>\n",
       "    </tr>\n",
       "    <tr>\n",
       "      <th>1</th>\n",
       "      <td>Tony Hawk's Pro Skater 2</td>\n",
       "      <td>PlayStation</td>\n",
       "      <td>September 20, 2000</td>\n",
       "      <td>As most major publishers' development efforts ...</td>\n",
       "      <td>98</td>\n",
       "      <td>7.4</td>\n",
       "    </tr>\n",
       "    <tr>\n",
       "      <th>2</th>\n",
       "      <td>Grand Theft Auto IV</td>\n",
       "      <td>PlayStation 3</td>\n",
       "      <td>April 29, 2008</td>\n",
       "      <td>[Metacritic's 2008 PS3 Game of the Year; Also ...</td>\n",
       "      <td>98</td>\n",
       "      <td>7.7</td>\n",
       "    </tr>\n",
       "    <tr>\n",
       "      <th>3</th>\n",
       "      <td>SoulCalibur</td>\n",
       "      <td>Dreamcast</td>\n",
       "      <td>September 8, 1999</td>\n",
       "      <td>This is a tale of souls and swords, transcendi...</td>\n",
       "      <td>98</td>\n",
       "      <td>8.4</td>\n",
       "    </tr>\n",
       "    <tr>\n",
       "      <th>4</th>\n",
       "      <td>Grand Theft Auto IV</td>\n",
       "      <td>Xbox 360</td>\n",
       "      <td>April 29, 2008</td>\n",
       "      <td>[Metacritic's 2008 Xbox 360 Game of the Year; ...</td>\n",
       "      <td>98</td>\n",
       "      <td>7.9</td>\n",
       "    </tr>\n",
       "  </tbody>\n",
       "</table>\n",
       "</div>"
      ],
      "text/plain": [
       "                                   name        platform        release_date  \\\n",
       "0  The Legend of Zelda: Ocarina of Time     Nintendo 64   November 23, 1998   \n",
       "1              Tony Hawk's Pro Skater 2     PlayStation  September 20, 2000   \n",
       "2                   Grand Theft Auto IV   PlayStation 3      April 29, 2008   \n",
       "3                           SoulCalibur       Dreamcast   September 8, 1999   \n",
       "4                   Grand Theft Auto IV        Xbox 360      April 29, 2008   \n",
       "\n",
       "                                             summary  meta_score user_review  \n",
       "0  As a young boy, Link is tricked by Ganondorf, ...          99         9.1  \n",
       "1  As most major publishers' development efforts ...          98         7.4  \n",
       "2  [Metacritic's 2008 PS3 Game of the Year; Also ...          98         7.7  \n",
       "3  This is a tale of souls and swords, transcendi...          98         8.4  \n",
       "4  [Metacritic's 2008 Xbox 360 Game of the Year; ...          98         7.9  "
      ]
     },
     "execution_count": 3,
     "metadata": {},
     "output_type": "execute_result"
    }
   ],
   "source": [
    "games.head()"
   ]
  },
  {
   "cell_type": "code",
   "execution_count": 4,
   "id": "765b3e25",
   "metadata": {},
   "outputs": [
    {
     "data": {
      "text/plain": [
       "(18800, 6)"
      ]
     },
     "execution_count": 4,
     "metadata": {},
     "output_type": "execute_result"
    }
   ],
   "source": [
    "games.shape"
   ]
  },
  {
   "cell_type": "code",
   "execution_count": 5,
   "id": "74098dab",
   "metadata": {},
   "outputs": [
    {
     "data": {
      "text/html": [
       "<div>\n",
       "<style scoped>\n",
       "    .dataframe tbody tr th:only-of-type {\n",
       "        vertical-align: middle;\n",
       "    }\n",
       "\n",
       "    .dataframe tbody tr th {\n",
       "        vertical-align: top;\n",
       "    }\n",
       "\n",
       "    .dataframe thead th {\n",
       "        text-align: right;\n",
       "    }\n",
       "</style>\n",
       "<table border=\"1\" class=\"dataframe\">\n",
       "  <thead>\n",
       "    <tr style=\"text-align: right;\">\n",
       "      <th></th>\n",
       "      <th>meta_score</th>\n",
       "    </tr>\n",
       "  </thead>\n",
       "  <tbody>\n",
       "    <tr>\n",
       "      <th>count</th>\n",
       "      <td>18800.000000</td>\n",
       "    </tr>\n",
       "    <tr>\n",
       "      <th>mean</th>\n",
       "      <td>70.648883</td>\n",
       "    </tr>\n",
       "    <tr>\n",
       "      <th>std</th>\n",
       "      <td>12.225006</td>\n",
       "    </tr>\n",
       "    <tr>\n",
       "      <th>min</th>\n",
       "      <td>20.000000</td>\n",
       "    </tr>\n",
       "    <tr>\n",
       "      <th>25%</th>\n",
       "      <td>64.000000</td>\n",
       "    </tr>\n",
       "    <tr>\n",
       "      <th>50%</th>\n",
       "      <td>72.000000</td>\n",
       "    </tr>\n",
       "    <tr>\n",
       "      <th>75%</th>\n",
       "      <td>80.000000</td>\n",
       "    </tr>\n",
       "    <tr>\n",
       "      <th>max</th>\n",
       "      <td>99.000000</td>\n",
       "    </tr>\n",
       "  </tbody>\n",
       "</table>\n",
       "</div>"
      ],
      "text/plain": [
       "         meta_score\n",
       "count  18800.000000\n",
       "mean      70.648883\n",
       "std       12.225006\n",
       "min       20.000000\n",
       "25%       64.000000\n",
       "50%       72.000000\n",
       "75%       80.000000\n",
       "max       99.000000"
      ]
     },
     "execution_count": 5,
     "metadata": {},
     "output_type": "execute_result"
    }
   ],
   "source": [
    "games.describe()"
   ]
  },
  {
   "cell_type": "code",
   "execution_count": 6,
   "id": "a5c984d6",
   "metadata": {},
   "outputs": [
    {
     "name": "stdout",
     "output_type": "stream",
     "text": [
      "<class 'pandas.core.frame.DataFrame'>\n",
      "RangeIndex: 18800 entries, 0 to 18799\n",
      "Data columns (total 6 columns):\n",
      " #   Column        Non-Null Count  Dtype \n",
      "---  ------        --------------  ----- \n",
      " 0   name          18800 non-null  object\n",
      " 1   platform      18800 non-null  object\n",
      " 2   release_date  18800 non-null  object\n",
      " 3   summary       18686 non-null  object\n",
      " 4   meta_score    18800 non-null  int64 \n",
      " 5   user_review   18800 non-null  object\n",
      "dtypes: int64(1), object(5)\n",
      "memory usage: 881.4+ KB\n"
     ]
    }
   ],
   "source": [
    "games.info()"
   ]
  },
  {
   "cell_type": "markdown",
   "id": "593b26fb",
   "metadata": {},
   "source": [
    "# Check Null Values"
   ]
  },
  {
   "cell_type": "code",
   "execution_count": 7,
   "id": "cd752f4d",
   "metadata": {},
   "outputs": [
    {
     "data": {
      "text/plain": [
       "name              0\n",
       "platform          0\n",
       "release_date      0\n",
       "summary         114\n",
       "meta_score        0\n",
       "user_review       0\n",
       "dtype: int64"
      ]
     },
     "execution_count": 7,
     "metadata": {},
     "output_type": "execute_result"
    }
   ],
   "source": [
    "games.isna().sum()"
   ]
  },
  {
   "cell_type": "code",
   "execution_count": 8,
   "id": "cdef6f70",
   "metadata": {},
   "outputs": [
    {
     "data": {
      "text/plain": [
       "name            0.00\n",
       "platform        0.00\n",
       "release_date    0.00\n",
       "summary         0.61\n",
       "meta_score      0.00\n",
       "user_review     0.00\n",
       "dtype: float64"
      ]
     },
     "execution_count": 8,
     "metadata": {},
     "output_type": "execute_result"
    }
   ],
   "source": [
    "#Percentage\n",
    "\n",
    "round(games.isna().sum()/len(games)*100, 2)"
   ]
  },
  {
   "cell_type": "markdown",
   "id": "c37a082c",
   "metadata": {},
   "source": [
    "# Correcting Data Types"
   ]
  },
  {
   "cell_type": "code",
   "execution_count": 9,
   "id": "74db2bc5",
   "metadata": {},
   "outputs": [],
   "source": [
    "#Change release_date into datetime format\n",
    "\n",
    "games['release_date'] = pd.to_datetime(games['release_date'])"
   ]
  },
  {
   "cell_type": "code",
   "execution_count": 10,
   "id": "13482b63",
   "metadata": {},
   "outputs": [
    {
     "data": {
      "text/plain": [
       "dtype('<M8[ns]')"
      ]
     },
     "execution_count": 10,
     "metadata": {},
     "output_type": "execute_result"
    }
   ],
   "source": [
    "games['release_date'].dtypes"
   ]
  },
  {
   "cell_type": "code",
   "execution_count": 11,
   "id": "e4b77654",
   "metadata": {},
   "outputs": [
    {
     "data": {
      "text/plain": [
       "array(['9.1', '7.4', '7.7', '8.4', '7.9', '8.0', '8.3', '6.2', '8.7',\n",
       "       '7.5', '8.8', '8.5', '8.6', '8.9', '8.2', '9.2', '7.8', '9.0',\n",
       "       '9.3', '8.1', '6.8', '7.6', '6.9', '6.6', '7.3', '7.2', '9.4',\n",
       "       '5.7', '6.0', '5.8', '7.1', '3.3', '5.0', '5.5', '6.5', '5.9',\n",
       "       '6.7', '3.8', '6.4', '7.0', '6.3', '4.9', 'tbd', '5.3', '3.5',\n",
       "       '4.7', '6.1', '4.8', '4.1', '5.6', '4.4', '5.4', '4.6', '3.1',\n",
       "       '5.2', '4.3', '1.8', '4.5', '5.1', '4.2', '4.0', '9.7', '3.2',\n",
       "       '2.9', '2.1', '2.4', '3.4', '3.0', '3.7', '2.2', '2.6', '2.7',\n",
       "       '2.5', '2.8', '3.9', '2.0', '9.6', '1.5', '3.6', '1.4', '1.2',\n",
       "       '0.9', '1.9', '1.1', '1.7', '0.8', '1.0', '0.6', '2.3', '0.5',\n",
       "       '1.6', '0.2', '0.7', '1.3'], dtype=object)"
      ]
     },
     "execution_count": 11,
     "metadata": {},
     "output_type": "execute_result"
    }
   ],
   "source": [
    "games['user_review'].unique()"
   ]
  },
  {
   "cell_type": "code",
   "execution_count": 12,
   "id": "89c04e74",
   "metadata": {},
   "outputs": [
    {
     "data": {
      "text/plain": [
       "tbd    1365\n",
       "7.7     727\n",
       "7.8     701\n",
       "7.5     682\n",
       "7.6     673\n",
       "       ... \n",
       "1.3       2\n",
       "9.4       1\n",
       "0.9       1\n",
       "0.2       1\n",
       "0.7       1\n",
       "Name: user_review, Length: 94, dtype: int64"
      ]
     },
     "execution_count": 12,
     "metadata": {},
     "output_type": "execute_result"
    }
   ],
   "source": [
    "games['user_review'].value_counts()"
   ]
  },
  {
   "cell_type": "code",
   "execution_count": 13,
   "id": "2612c257",
   "metadata": {},
   "outputs": [],
   "source": [
    "#In percentage\n",
    "\n",
    "user_review_percentage = games['user_review'].value_counts(normalize=True).sort_index(ascending=False).sort_values(ascending=False)*100.00"
   ]
  },
  {
   "cell_type": "code",
   "execution_count": 14,
   "id": "bc65b712",
   "metadata": {},
   "outputs": [
    {
     "data": {
      "text/plain": [
       "7.26"
      ]
     },
     "execution_count": 14,
     "metadata": {},
     "output_type": "execute_result"
    }
   ],
   "source": [
    "round(user_review_percentage[0], 2)"
   ]
  },
  {
   "cell_type": "markdown",
   "id": "198126fb",
   "metadata": {},
   "source": [
    "###  This is far too many rows to drop right away. Since I would like to preserve as much data as possible, I will fill in these missing values."
   ]
  },
  {
   "cell_type": "code",
   "execution_count": 15,
   "id": "8fbe1426",
   "metadata": {},
   "outputs": [],
   "source": [
    "# Create dataframe dropping all user_review with 'tbd' rows to get a clean dataset\n",
    "games_no_tbd = games.drop(games[games.user_review == 'tbd'].index)"
   ]
  },
  {
   "cell_type": "code",
   "execution_count": 16,
   "id": "c458ad49",
   "metadata": {},
   "outputs": [],
   "source": [
    "# Turn datatype from object to float \n",
    "games_no_tbd['user_review'] = games_no_tbd['user_review'].astype(float)"
   ]
  },
  {
   "cell_type": "code",
   "execution_count": 17,
   "id": "80ab0b01",
   "metadata": {},
   "outputs": [
    {
     "data": {
      "text/plain": [
       "count    17435.000000\n",
       "mean         6.990846\n",
       "std          1.351554\n",
       "min          0.200000\n",
       "25%          6.300000\n",
       "50%          7.300000\n",
       "75%          7.900000\n",
       "max          9.700000\n",
       "Name: user_review, dtype: float64"
      ]
     },
     "execution_count": 17,
     "metadata": {},
     "output_type": "execute_result"
    }
   ],
   "source": [
    "games_no_tbd['user_review'].describe()"
   ]
  },
  {
   "cell_type": "code",
   "execution_count": 18,
   "id": "fc2aa931",
   "metadata": {},
   "outputs": [],
   "source": [
    "games_no_tbd_avg = games_no_tbd.groupby(['name'], as_index = False)['user_review'].mean()"
   ]
  },
  {
   "cell_type": "code",
   "execution_count": 19,
   "id": "466c3bda",
   "metadata": {},
   "outputs": [],
   "source": [
    "# Change column name to reflect mean calculations\n",
    "games_no_tbd_avg = games_no_tbd_avg.rename(columns={'user_review': 'average_user_review'})"
   ]
  },
  {
   "cell_type": "code",
   "execution_count": 20,
   "id": "696f323d",
   "metadata": {},
   "outputs": [
    {
     "data": {
      "text/html": [
       "<div>\n",
       "<style scoped>\n",
       "    .dataframe tbody tr th:only-of-type {\n",
       "        vertical-align: middle;\n",
       "    }\n",
       "\n",
       "    .dataframe tbody tr th {\n",
       "        vertical-align: top;\n",
       "    }\n",
       "\n",
       "    .dataframe thead th {\n",
       "        text-align: right;\n",
       "    }\n",
       "</style>\n",
       "<table border=\"1\" class=\"dataframe\">\n",
       "  <thead>\n",
       "    <tr style=\"text-align: right;\">\n",
       "      <th></th>\n",
       "      <th>name</th>\n",
       "      <th>average_user_review</th>\n",
       "    </tr>\n",
       "  </thead>\n",
       "  <tbody>\n",
       "    <tr>\n",
       "      <th>0</th>\n",
       "      <td>#IDARB</td>\n",
       "      <td>6.90</td>\n",
       "    </tr>\n",
       "    <tr>\n",
       "      <th>1</th>\n",
       "      <td>'Splosion Man</td>\n",
       "      <td>7.80</td>\n",
       "    </tr>\n",
       "    <tr>\n",
       "      <th>2</th>\n",
       "      <td>.detuned</td>\n",
       "      <td>3.70</td>\n",
       "    </tr>\n",
       "    <tr>\n",
       "      <th>3</th>\n",
       "      <td>.hack//G.U. Last Recode</td>\n",
       "      <td>8.15</td>\n",
       "    </tr>\n",
       "    <tr>\n",
       "      <th>4</th>\n",
       "      <td>.hack//G.U. vol. 1//Rebirth</td>\n",
       "      <td>8.10</td>\n",
       "    </tr>\n",
       "  </tbody>\n",
       "</table>\n",
       "</div>"
      ],
      "text/plain": [
       "                          name  average_user_review\n",
       "0                       #IDARB                 6.90\n",
       "1                'Splosion Man                 7.80\n",
       "2                     .detuned                 3.70\n",
       "3      .hack//G.U. Last Recode                 8.15\n",
       "4  .hack//G.U. vol. 1//Rebirth                 8.10"
      ]
     },
     "execution_count": 20,
     "metadata": {},
     "output_type": "execute_result"
    }
   ],
   "source": [
    "games_no_tbd_avg.head()"
   ]
  },
  {
   "cell_type": "code",
   "execution_count": 21,
   "id": "f7ccfe0a",
   "metadata": {},
   "outputs": [],
   "source": [
    "# Replace the 'tbd' with None to make it a true null value\n",
    "games[\"user_review\"].replace('tbd', np.NaN, inplace=True)"
   ]
  },
  {
   "cell_type": "markdown",
   "id": "9ee536b3",
   "metadata": {},
   "source": [
    "#### Finally, we can change the data type of user_review to a float so it can reflect the true data type of user reviews "
   ]
  },
  {
   "cell_type": "code",
   "execution_count": 22,
   "id": "11227c4d",
   "metadata": {},
   "outputs": [],
   "source": [
    "games['user_review'] = games[\"user_review\"].astype(float)"
   ]
  },
  {
   "cell_type": "code",
   "execution_count": 23,
   "id": "117e40c2",
   "metadata": {},
   "outputs": [
    {
     "data": {
      "text/plain": [
       "name                    object\n",
       "platform                object\n",
       "release_date    datetime64[ns]\n",
       "summary                 object\n",
       "meta_score               int64\n",
       "user_review            float64\n",
       "dtype: object"
      ]
     },
     "execution_count": 23,
     "metadata": {},
     "output_type": "execute_result"
    }
   ],
   "source": [
    "games.dtypes"
   ]
  },
  {
   "cell_type": "code",
   "execution_count": 24,
   "id": "e6c791d0",
   "metadata": {},
   "outputs": [
    {
     "data": {
      "text/plain": [
       "name               0\n",
       "platform           0\n",
       "release_date       0\n",
       "summary          114\n",
       "meta_score         0\n",
       "user_review     1365\n",
       "dtype: int64"
      ]
     },
     "execution_count": 24,
     "metadata": {},
     "output_type": "execute_result"
    }
   ],
   "source": [
    "# Now, Check null values\n",
    "\n",
    "games.isna().sum()"
   ]
  },
  {
   "cell_type": "markdown",
   "id": "a5be5cb4",
   "metadata": {},
   "source": [
    "##### Fill NaN values in User_review"
   ]
  },
  {
   "cell_type": "code",
   "execution_count": 25,
   "id": "8a962fdd",
   "metadata": {},
   "outputs": [],
   "source": [
    "# Filling matching game names \n",
    "games.set_index(\"name\", inplace=True)\n",
    "games[\"user_review\"].fillna(games_no_tbd_avg.set_index(\"name\")[\"average_user_review\"], inplace=True)\n",
    "games.reset_index(inplace=True)"
   ]
  },
  {
   "cell_type": "code",
   "execution_count": 26,
   "id": "a750f802",
   "metadata": {},
   "outputs": [
    {
     "data": {
      "text/plain": [
       "name              0\n",
       "platform          0\n",
       "release_date      0\n",
       "summary         114\n",
       "meta_score        0\n",
       "user_review     928\n",
       "dtype: int64"
      ]
     },
     "execution_count": 26,
     "metadata": {},
     "output_type": "execute_result"
    }
   ],
   "source": [
    "games.isna().sum()"
   ]
  },
  {
   "cell_type": "code",
   "execution_count": 27,
   "id": "50e262be",
   "metadata": {},
   "outputs": [
    {
     "data": {
      "text/plain": [
       "name            0.00\n",
       "platform        0.00\n",
       "release_date    0.00\n",
       "summary         0.61\n",
       "meta_score      0.00\n",
       "user_review     4.94\n",
       "dtype: float64"
      ]
     },
     "execution_count": 27,
     "metadata": {},
     "output_type": "execute_result"
    }
   ],
   "source": [
    "round(games.isna().sum()/len(games)*100, 2)"
   ]
  },
  {
   "cell_type": "markdown",
   "id": "320bd2b4",
   "metadata": {},
   "source": [
    "### After imputing values, the percentage of null values in user_review went from 7.26% to 4.94%. "
   ]
  },
  {
   "cell_type": "code",
   "execution_count": 28,
   "id": "ad5dc764",
   "metadata": {},
   "outputs": [
    {
     "data": {
      "text/plain": [
       "name                    object\n",
       "platform                object\n",
       "release_date    datetime64[ns]\n",
       "summary                 object\n",
       "meta_score               int64\n",
       "user_review            float64\n",
       "dtype: object"
      ]
     },
     "execution_count": 28,
     "metadata": {},
     "output_type": "execute_result"
    }
   ],
   "source": [
    "games.dtypes"
   ]
  },
  {
   "cell_type": "code",
   "execution_count": 29,
   "id": "823257fb",
   "metadata": {},
   "outputs": [],
   "source": [
    "# Drop rows that are null\n",
    "games= games.dropna(axis=0) "
   ]
  },
  {
   "cell_type": "code",
   "execution_count": 30,
   "id": "ce85c5a1",
   "metadata": {},
   "outputs": [
    {
     "data": {
      "text/plain": [
       "name            0\n",
       "platform        0\n",
       "release_date    0\n",
       "summary         0\n",
       "meta_score      0\n",
       "user_review     0\n",
       "dtype: int64"
      ]
     },
     "execution_count": 30,
     "metadata": {},
     "output_type": "execute_result"
    }
   ],
   "source": [
    "games.isnull().sum()"
   ]
  },
  {
   "cell_type": "code",
   "execution_count": 31,
   "id": "90679313",
   "metadata": {},
   "outputs": [
    {
     "data": {
      "text/html": [
       "<div>\n",
       "<style scoped>\n",
       "    .dataframe tbody tr th:only-of-type {\n",
       "        vertical-align: middle;\n",
       "    }\n",
       "\n",
       "    .dataframe tbody tr th {\n",
       "        vertical-align: top;\n",
       "    }\n",
       "\n",
       "    .dataframe thead th {\n",
       "        text-align: right;\n",
       "    }\n",
       "</style>\n",
       "<table border=\"1\" class=\"dataframe\">\n",
       "  <thead>\n",
       "    <tr style=\"text-align: right;\">\n",
       "      <th></th>\n",
       "      <th>name</th>\n",
       "      <th>platform</th>\n",
       "      <th>release_date</th>\n",
       "      <th>summary</th>\n",
       "      <th>meta_score</th>\n",
       "      <th>user_review</th>\n",
       "    </tr>\n",
       "  </thead>\n",
       "  <tbody>\n",
       "    <tr>\n",
       "      <th>0</th>\n",
       "      <td>The Legend of Zelda: Ocarina of Time</td>\n",
       "      <td>Nintendo 64</td>\n",
       "      <td>1998-11-23</td>\n",
       "      <td>As a young boy, Link is tricked by Ganondorf, ...</td>\n",
       "      <td>99</td>\n",
       "      <td>9.1</td>\n",
       "    </tr>\n",
       "    <tr>\n",
       "      <th>1</th>\n",
       "      <td>Tony Hawk's Pro Skater 2</td>\n",
       "      <td>PlayStation</td>\n",
       "      <td>2000-09-20</td>\n",
       "      <td>As most major publishers' development efforts ...</td>\n",
       "      <td>98</td>\n",
       "      <td>7.4</td>\n",
       "    </tr>\n",
       "    <tr>\n",
       "      <th>2</th>\n",
       "      <td>Grand Theft Auto IV</td>\n",
       "      <td>PlayStation 3</td>\n",
       "      <td>2008-04-29</td>\n",
       "      <td>[Metacritic's 2008 PS3 Game of the Year; Also ...</td>\n",
       "      <td>98</td>\n",
       "      <td>7.7</td>\n",
       "    </tr>\n",
       "    <tr>\n",
       "      <th>3</th>\n",
       "      <td>SoulCalibur</td>\n",
       "      <td>Dreamcast</td>\n",
       "      <td>1999-09-08</td>\n",
       "      <td>This is a tale of souls and swords, transcendi...</td>\n",
       "      <td>98</td>\n",
       "      <td>8.4</td>\n",
       "    </tr>\n",
       "    <tr>\n",
       "      <th>4</th>\n",
       "      <td>Grand Theft Auto IV</td>\n",
       "      <td>Xbox 360</td>\n",
       "      <td>2008-04-29</td>\n",
       "      <td>[Metacritic's 2008 Xbox 360 Game of the Year; ...</td>\n",
       "      <td>98</td>\n",
       "      <td>7.9</td>\n",
       "    </tr>\n",
       "  </tbody>\n",
       "</table>\n",
       "</div>"
      ],
      "text/plain": [
       "                                   name        platform release_date  \\\n",
       "0  The Legend of Zelda: Ocarina of Time     Nintendo 64   1998-11-23   \n",
       "1              Tony Hawk's Pro Skater 2     PlayStation   2000-09-20   \n",
       "2                   Grand Theft Auto IV   PlayStation 3   2008-04-29   \n",
       "3                           SoulCalibur       Dreamcast   1999-09-08   \n",
       "4                   Grand Theft Auto IV        Xbox 360   2008-04-29   \n",
       "\n",
       "                                             summary  meta_score  user_review  \n",
       "0  As a young boy, Link is tricked by Ganondorf, ...          99          9.1  \n",
       "1  As most major publishers' development efforts ...          98          7.4  \n",
       "2  [Metacritic's 2008 PS3 Game of the Year; Also ...          98          7.7  \n",
       "3  This is a tale of souls and swords, transcendi...          98          8.4  \n",
       "4  [Metacritic's 2008 Xbox 360 Game of the Year; ...          98          7.9  "
      ]
     },
     "execution_count": 31,
     "metadata": {},
     "output_type": "execute_result"
    }
   ],
   "source": [
    "games.head()"
   ]
  },
  {
   "cell_type": "markdown",
   "id": "53958770",
   "metadata": {},
   "source": [
    "### Creating Features\n",
    "### Create a 'Year' and 'Month' column\n",
    "### Now I wish to extract the year and the month column so it will be treated as numerical data that can be analyzed more closely."
   ]
  },
  {
   "cell_type": "code",
   "execution_count": 32,
   "id": "20e864c8",
   "metadata": {},
   "outputs": [],
   "source": [
    "# Extracting year and month from date and creating new columns\n",
    "\n",
    "games['release_year'] = games['release_date'].dt.year\n",
    "games['release_month'] = games['release_date'].dt.month"
   ]
  },
  {
   "cell_type": "code",
   "execution_count": 33,
   "id": "12d3b13b",
   "metadata": {},
   "outputs": [
    {
     "data": {
      "text/html": [
       "<div>\n",
       "<style scoped>\n",
       "    .dataframe tbody tr th:only-of-type {\n",
       "        vertical-align: middle;\n",
       "    }\n",
       "\n",
       "    .dataframe tbody tr th {\n",
       "        vertical-align: top;\n",
       "    }\n",
       "\n",
       "    .dataframe thead th {\n",
       "        text-align: right;\n",
       "    }\n",
       "</style>\n",
       "<table border=\"1\" class=\"dataframe\">\n",
       "  <thead>\n",
       "    <tr style=\"text-align: right;\">\n",
       "      <th></th>\n",
       "      <th>name</th>\n",
       "      <th>platform</th>\n",
       "      <th>release_date</th>\n",
       "      <th>summary</th>\n",
       "      <th>meta_score</th>\n",
       "      <th>user_review</th>\n",
       "      <th>release_year</th>\n",
       "      <th>release_month</th>\n",
       "    </tr>\n",
       "  </thead>\n",
       "  <tbody>\n",
       "    <tr>\n",
       "      <th>0</th>\n",
       "      <td>The Legend of Zelda: Ocarina of Time</td>\n",
       "      <td>Nintendo 64</td>\n",
       "      <td>1998-11-23</td>\n",
       "      <td>As a young boy, Link is tricked by Ganondorf, ...</td>\n",
       "      <td>99</td>\n",
       "      <td>9.1</td>\n",
       "      <td>1998</td>\n",
       "      <td>11</td>\n",
       "    </tr>\n",
       "    <tr>\n",
       "      <th>1</th>\n",
       "      <td>Tony Hawk's Pro Skater 2</td>\n",
       "      <td>PlayStation</td>\n",
       "      <td>2000-09-20</td>\n",
       "      <td>As most major publishers' development efforts ...</td>\n",
       "      <td>98</td>\n",
       "      <td>7.4</td>\n",
       "      <td>2000</td>\n",
       "      <td>9</td>\n",
       "    </tr>\n",
       "    <tr>\n",
       "      <th>2</th>\n",
       "      <td>Grand Theft Auto IV</td>\n",
       "      <td>PlayStation 3</td>\n",
       "      <td>2008-04-29</td>\n",
       "      <td>[Metacritic's 2008 PS3 Game of the Year; Also ...</td>\n",
       "      <td>98</td>\n",
       "      <td>7.7</td>\n",
       "      <td>2008</td>\n",
       "      <td>4</td>\n",
       "    </tr>\n",
       "    <tr>\n",
       "      <th>3</th>\n",
       "      <td>SoulCalibur</td>\n",
       "      <td>Dreamcast</td>\n",
       "      <td>1999-09-08</td>\n",
       "      <td>This is a tale of souls and swords, transcendi...</td>\n",
       "      <td>98</td>\n",
       "      <td>8.4</td>\n",
       "      <td>1999</td>\n",
       "      <td>9</td>\n",
       "    </tr>\n",
       "    <tr>\n",
       "      <th>4</th>\n",
       "      <td>Grand Theft Auto IV</td>\n",
       "      <td>Xbox 360</td>\n",
       "      <td>2008-04-29</td>\n",
       "      <td>[Metacritic's 2008 Xbox 360 Game of the Year; ...</td>\n",
       "      <td>98</td>\n",
       "      <td>7.9</td>\n",
       "      <td>2008</td>\n",
       "      <td>4</td>\n",
       "    </tr>\n",
       "  </tbody>\n",
       "</table>\n",
       "</div>"
      ],
      "text/plain": [
       "                                   name        platform release_date  \\\n",
       "0  The Legend of Zelda: Ocarina of Time     Nintendo 64   1998-11-23   \n",
       "1              Tony Hawk's Pro Skater 2     PlayStation   2000-09-20   \n",
       "2                   Grand Theft Auto IV   PlayStation 3   2008-04-29   \n",
       "3                           SoulCalibur       Dreamcast   1999-09-08   \n",
       "4                   Grand Theft Auto IV        Xbox 360   2008-04-29   \n",
       "\n",
       "                                             summary  meta_score  user_review  \\\n",
       "0  As a young boy, Link is tricked by Ganondorf, ...          99          9.1   \n",
       "1  As most major publishers' development efforts ...          98          7.4   \n",
       "2  [Metacritic's 2008 PS3 Game of the Year; Also ...          98          7.7   \n",
       "3  This is a tale of souls and swords, transcendi...          98          8.4   \n",
       "4  [Metacritic's 2008 Xbox 360 Game of the Year; ...          98          7.9   \n",
       "\n",
       "   release_year  release_month  \n",
       "0          1998             11  \n",
       "1          2000              9  \n",
       "2          2008              4  \n",
       "3          1999              9  \n",
       "4          2008              4  "
      ]
     },
     "execution_count": 33,
     "metadata": {},
     "output_type": "execute_result"
    }
   ],
   "source": [
    "games.head()"
   ]
  },
  {
   "cell_type": "code",
   "execution_count": 34,
   "id": "6f194111",
   "metadata": {},
   "outputs": [],
   "source": [
    "games = games.drop(columns=['release_date'])"
   ]
  },
  {
   "cell_type": "code",
   "execution_count": 35,
   "id": "974d6350",
   "metadata": {},
   "outputs": [
    {
     "data": {
      "text/html": [
       "<div>\n",
       "<style scoped>\n",
       "    .dataframe tbody tr th:only-of-type {\n",
       "        vertical-align: middle;\n",
       "    }\n",
       "\n",
       "    .dataframe tbody tr th {\n",
       "        vertical-align: top;\n",
       "    }\n",
       "\n",
       "    .dataframe thead th {\n",
       "        text-align: right;\n",
       "    }\n",
       "</style>\n",
       "<table border=\"1\" class=\"dataframe\">\n",
       "  <thead>\n",
       "    <tr style=\"text-align: right;\">\n",
       "      <th></th>\n",
       "      <th>name</th>\n",
       "      <th>platform</th>\n",
       "      <th>summary</th>\n",
       "      <th>meta_score</th>\n",
       "      <th>user_review</th>\n",
       "      <th>release_year</th>\n",
       "      <th>release_month</th>\n",
       "    </tr>\n",
       "  </thead>\n",
       "  <tbody>\n",
       "    <tr>\n",
       "      <th>0</th>\n",
       "      <td>The Legend of Zelda: Ocarina of Time</td>\n",
       "      <td>Nintendo 64</td>\n",
       "      <td>As a young boy, Link is tricked by Ganondorf, ...</td>\n",
       "      <td>99</td>\n",
       "      <td>9.1</td>\n",
       "      <td>1998</td>\n",
       "      <td>11</td>\n",
       "    </tr>\n",
       "    <tr>\n",
       "      <th>1</th>\n",
       "      <td>Tony Hawk's Pro Skater 2</td>\n",
       "      <td>PlayStation</td>\n",
       "      <td>As most major publishers' development efforts ...</td>\n",
       "      <td>98</td>\n",
       "      <td>7.4</td>\n",
       "      <td>2000</td>\n",
       "      <td>9</td>\n",
       "    </tr>\n",
       "    <tr>\n",
       "      <th>2</th>\n",
       "      <td>Grand Theft Auto IV</td>\n",
       "      <td>PlayStation 3</td>\n",
       "      <td>[Metacritic's 2008 PS3 Game of the Year; Also ...</td>\n",
       "      <td>98</td>\n",
       "      <td>7.7</td>\n",
       "      <td>2008</td>\n",
       "      <td>4</td>\n",
       "    </tr>\n",
       "    <tr>\n",
       "      <th>3</th>\n",
       "      <td>SoulCalibur</td>\n",
       "      <td>Dreamcast</td>\n",
       "      <td>This is a tale of souls and swords, transcendi...</td>\n",
       "      <td>98</td>\n",
       "      <td>8.4</td>\n",
       "      <td>1999</td>\n",
       "      <td>9</td>\n",
       "    </tr>\n",
       "    <tr>\n",
       "      <th>4</th>\n",
       "      <td>Grand Theft Auto IV</td>\n",
       "      <td>Xbox 360</td>\n",
       "      <td>[Metacritic's 2008 Xbox 360 Game of the Year; ...</td>\n",
       "      <td>98</td>\n",
       "      <td>7.9</td>\n",
       "      <td>2008</td>\n",
       "      <td>4</td>\n",
       "    </tr>\n",
       "  </tbody>\n",
       "</table>\n",
       "</div>"
      ],
      "text/plain": [
       "                                   name        platform  \\\n",
       "0  The Legend of Zelda: Ocarina of Time     Nintendo 64   \n",
       "1              Tony Hawk's Pro Skater 2     PlayStation   \n",
       "2                   Grand Theft Auto IV   PlayStation 3   \n",
       "3                           SoulCalibur       Dreamcast   \n",
       "4                   Grand Theft Auto IV        Xbox 360   \n",
       "\n",
       "                                             summary  meta_score  user_review  \\\n",
       "0  As a young boy, Link is tricked by Ganondorf, ...          99          9.1   \n",
       "1  As most major publishers' development efforts ...          98          7.4   \n",
       "2  [Metacritic's 2008 PS3 Game of the Year; Also ...          98          7.7   \n",
       "3  This is a tale of souls and swords, transcendi...          98          8.4   \n",
       "4  [Metacritic's 2008 Xbox 360 Game of the Year; ...          98          7.9   \n",
       "\n",
       "   release_year  release_month  \n",
       "0          1998             11  \n",
       "1          2000              9  \n",
       "2          2008              4  \n",
       "3          1999              9  \n",
       "4          2008              4  "
      ]
     },
     "execution_count": 35,
     "metadata": {},
     "output_type": "execute_result"
    }
   ],
   "source": [
    "games.head()"
   ]
  },
  {
   "cell_type": "markdown",
   "id": "a13fe91f",
   "metadata": {},
   "source": [
    "As we can see,the data now have release_year and release_month columns.The dataframe is looking good."
   ]
  },
  {
   "cell_type": "markdown",
   "id": "b9a26bfc",
   "metadata": {},
   "source": [
    "# EDA"
   ]
  },
  {
   "cell_type": "markdown",
   "id": "c3a06c58",
   "metadata": {},
   "source": [
    "I will be doing some exploratory data analysis to gather some both useful and interesting insights about my dataset.\n",
    "I will plot the distribution of the data to understanding."
   ]
  },
  {
   "cell_type": "code",
   "execution_count": 36,
   "id": "b7731971",
   "metadata": {},
   "outputs": [
    {
     "data": {
      "text/plain": [
       "11320"
      ]
     },
     "execution_count": 36,
     "metadata": {},
     "output_type": "execute_result"
    }
   ],
   "source": [
    "len(games['name'].unique())"
   ]
  },
  {
   "cell_type": "markdown",
   "id": "86426d05",
   "metadata": {},
   "source": [
    "#### Names"
   ]
  },
  {
   "cell_type": "code",
   "execution_count": 37,
   "id": "907cf966",
   "metadata": {},
   "outputs": [
    {
     "data": {
      "image/png": "[encoded data removed]",
      "text/plain": [
       "<Figure size 864x720 with 1 Axes>"
      ]
     },
     "metadata": {
      "needs_background": "light"
     },
     "output_type": "display_data"
    }
   ],
   "source": [
    "# top 20 by ordered by count\n",
    "\n",
    "plt.figure(figsize=(12,10))\n",
    "\n",
    "sns.countplot(y=\"name\", data=games,order=games.name.value_counts().iloc[:20].index)\n",
    "plt.show()"
   ]
  },
  {
   "cell_type": "markdown",
   "id": "ef9c6a49",
   "metadata": {},
   "source": [
    "From the graph above, I can see that Madden NFL 07 and Cars are the game with the highest number reviews."
   ]
  },
  {
   "cell_type": "code",
   "execution_count": 38,
   "id": "77f98118",
   "metadata": {},
   "outputs": [
    {
     "data": {
      "text/plain": [
       "22"
      ]
     },
     "execution_count": 38,
     "metadata": {},
     "output_type": "execute_result"
    }
   ],
   "source": [
    "len(games['platform'].unique())"
   ]
  },
  {
   "cell_type": "markdown",
   "id": "8235a414",
   "metadata": {},
   "source": [
    "There are 22 unique platforms in this dataset."
   ]
  },
  {
   "cell_type": "markdown",
   "id": "bca5786e",
   "metadata": {},
   "source": [
    "### Platform"
   ]
  },
  {
   "cell_type": "code",
   "execution_count": 39,
   "id": "f86285bc",
   "metadata": {},
   "outputs": [
    {
     "data": {
      "image/png": "[encoded data removed]",
      "text/plain": [
       "<Figure size 864x720 with 1 Axes>"
      ]
     },
     "metadata": {
      "needs_background": "light"
     },
     "output_type": "display_data"
    }
   ],
   "source": [
    "plt.figure(figsize=(12,10))\n",
    "\n",
    "sns.countplot(y=\"platform\", data=games,order=games['platform'].value_counts().index)\n",
    "plt.show()"
   ]
  },
  {
   "cell_type": "markdown",
   "id": "07054fb8",
   "metadata": {},
   "source": [
    "PC is the highest reviewed platform."
   ]
  },
  {
   "cell_type": "markdown",
   "id": "32a505c4",
   "metadata": {},
   "source": [
    "### Meta Score"
   ]
  },
  {
   "cell_type": "code",
   "execution_count": 40,
   "id": "01d91aee",
   "metadata": {},
   "outputs": [
    {
     "data": {
      "image/png": "[encoded data removed]",
      "text/plain": [
       "<Figure size 864x576 with 1 Axes>"
      ]
     },
     "metadata": {
      "needs_background": "light"
     },
     "output_type": "display_data"
    }
   ],
   "source": [
    "plt.figure(figsize=(12,8))\n",
    "\n",
    "sns.histplot(data=games,x=\"meta_score\",bins=10,kde=True,color='red')\n",
    "\n",
    "plt.xlabel(\"Meta Score\")\n",
    "plt.ylabel('Frequency')\n",
    "plt.show()"
   ]
  },
  {
   "cell_type": "markdown",
   "id": "25a61dc1",
   "metadata": {},
   "source": [
    "### User Review"
   ]
  },
  {
   "cell_type": "code",
   "execution_count": 41,
   "id": "3906f5a6",
   "metadata": {},
   "outputs": [
    {
     "data": {
      "image/png": "[encoded data removed]",
      "text/plain": [
       "<Figure size 864x576 with 1 Axes>"
      ]
     },
     "metadata": {
      "needs_background": "light"
     },
     "output_type": "display_data"
    }
   ],
   "source": [
    "plt.figure(figsize=(12,8))\n",
    "\n",
    "sns.histplot(data=games,x=\"user_review\",bins=10,kde=True,color='red')\n",
    "\n",
    "plt.xlabel(\"user_review\")\n",
    "plt.ylabel('Frequency')\n",
    "plt.show()"
   ]
  },
  {
   "cell_type": "markdown",
   "id": "e65cad16",
   "metadata": {},
   "source": [
    "### Release Year"
   ]
  },
  {
   "cell_type": "code",
   "execution_count": 42,
   "id": "0b45dc29",
   "metadata": {},
   "outputs": [
    {
     "data": {
      "image/png": "[encoded data removed]",
      "text/plain": [
       "<Figure size 1440x576 with 1 Axes>"
      ]
     },
     "metadata": {
      "needs_background": "light"
     },
     "output_type": "display_data"
    }
   ],
   "source": [
    "plt.figure(figsize=(20,8))\n",
    "\n",
    "sns.countplot(x=\"release_year\", data=games)\n",
    "plt.xlabel(\"Year\")\n",
    "plt.ylabel('Number of Reviews')\n",
    "plt.show()"
   ]
  },
  {
   "cell_type": "markdown",
   "id": "cbc1da5c",
   "metadata": {},
   "source": [
    "### Release Month"
   ]
  },
  {
   "cell_type": "code",
   "execution_count": 43,
   "id": "39c45146",
   "metadata": {},
   "outputs": [
    {
     "data": {
      "image/png": "[encoded data removed]",
      "text/plain": [
       "<Figure size 1440x576 with 1 Axes>"
      ]
     },
     "metadata": {
      "needs_background": "light"
     },
     "output_type": "display_data"
    }
   ],
   "source": [
    "plt.figure(figsize=(20,8))\n",
    "\n",
    "sns.countplot(x=\"release_month\", data=games)\n",
    "plt.xlabel(\"Month\")\n",
    "plt.ylabel('Number of Reviews')\n",
    "plt.show()"
   ]
  },
  {
   "cell_type": "markdown",
   "id": "c72f3419",
   "metadata": {},
   "source": [
    "# Pre-Processing"
   ]
  },
  {
   "cell_type": "markdown",
   "id": "131f08cf",
   "metadata": {},
   "source": [
    "I will be modifying columns,adding features and preparing the data for the implementation of Natural Language Processing (NLP) and Machine Learning techniques."
   ]
  },
  {
   "cell_type": "code",
   "execution_count": 44,
   "id": "4e4fb88e",
   "metadata": {},
   "outputs": [
    {
     "data": {
      "text/plain": [
       "count    17776.000000\n",
       "mean        71.027171\n",
       "std         12.232221\n",
       "min         20.000000\n",
       "25%         64.000000\n",
       "50%         73.000000\n",
       "75%         80.000000\n",
       "max         99.000000\n",
       "Name: meta_score, dtype: float64"
      ]
     },
     "execution_count": 44,
     "metadata": {},
     "output_type": "execute_result"
    }
   ],
   "source": [
    "games['meta_score'].describe()"
   ]
  },
  {
   "cell_type": "code",
   "execution_count": 45,
   "id": "86218eaa",
   "metadata": {},
   "outputs": [],
   "source": [
    "# Encode as binary using median as threshold\n",
    "games[\"meta_score\"] = np.where(games[\"meta_score\"] <73, 0, 1)"
   ]
  },
  {
   "cell_type": "code",
   "execution_count": 46,
   "id": "c6e1eeb6",
   "metadata": {},
   "outputs": [],
   "source": [
    "meta_score_percen=round(games['meta_score'].value_counts(normalize=True).sort_index()*100, 2)"
   ]
  },
  {
   "cell_type": "code",
   "execution_count": 47,
   "id": "5c3f3a09",
   "metadata": {},
   "outputs": [
    {
     "data": {
      "image/png": "[encoded data removed]",
      "text/plain": [
       "<Figure size 720x432 with 1 Axes>"
      ]
     },
     "metadata": {
      "needs_background": "light"
     },
     "output_type": "display_data"
    }
   ],
   "source": [
    "plt.figure(figsize=(10,6))\n",
    "\n",
    "meta_score_percen.plot.bar(color=['red','orange'])\n",
    "plt.xlabel('Meta Score')\n",
    "plt.ylabel('Distribution (%)')\n",
    "plt.show()\n"
   ]
  },
  {
   "cell_type": "markdown",
   "id": "fe8b9f4b",
   "metadata": {},
   "source": [
    "# Removes the square/round brackets and the texts inside it"
   ]
  },
  {
   "cell_type": "code",
   "execution_count": 48,
   "id": "bd6f9b1a",
   "metadata": {},
   "outputs": [],
   "source": [
    "games['summary'] = games['summary'].str.replace(r'\\[(.*?)\\]','', regex=True).astype('str')\n",
    "games['summary'] = games['summary'].str.replace(r'\\((.*?)\\)','', regex=True).astype('str')"
   ]
  },
  {
   "cell_type": "code",
   "execution_count": 49,
   "id": "ff5693a9",
   "metadata": {},
   "outputs": [
    {
     "data": {
      "text/html": [
       "<div>\n",
       "<style scoped>\n",
       "    .dataframe tbody tr th:only-of-type {\n",
       "        vertical-align: middle;\n",
       "    }\n",
       "\n",
       "    .dataframe tbody tr th {\n",
       "        vertical-align: top;\n",
       "    }\n",
       "\n",
       "    .dataframe thead th {\n",
       "        text-align: right;\n",
       "    }\n",
       "</style>\n",
       "<table border=\"1\" class=\"dataframe\">\n",
       "  <thead>\n",
       "    <tr style=\"text-align: right;\">\n",
       "      <th></th>\n",
       "      <th>name</th>\n",
       "      <th>platform</th>\n",
       "      <th>summary</th>\n",
       "      <th>meta_score</th>\n",
       "      <th>user_review</th>\n",
       "      <th>release_year</th>\n",
       "      <th>release_month</th>\n",
       "    </tr>\n",
       "  </thead>\n",
       "  <tbody>\n",
       "    <tr>\n",
       "      <th>0</th>\n",
       "      <td>The Legend of Zelda: Ocarina of Time</td>\n",
       "      <td>Nintendo 64</td>\n",
       "      <td>As a young boy, Link is tricked by Ganondorf, ...</td>\n",
       "      <td>1</td>\n",
       "      <td>9.1</td>\n",
       "      <td>1998</td>\n",
       "      <td>11</td>\n",
       "    </tr>\n",
       "    <tr>\n",
       "      <th>1</th>\n",
       "      <td>Tony Hawk's Pro Skater 2</td>\n",
       "      <td>PlayStation</td>\n",
       "      <td>As most major publishers' development efforts ...</td>\n",
       "      <td>1</td>\n",
       "      <td>7.4</td>\n",
       "      <td>2000</td>\n",
       "      <td>9</td>\n",
       "    </tr>\n",
       "    <tr>\n",
       "      <th>2</th>\n",
       "      <td>Grand Theft Auto IV</td>\n",
       "      <td>PlayStation 3</td>\n",
       "      <td>What does the American Dream mean today? For ...</td>\n",
       "      <td>1</td>\n",
       "      <td>7.7</td>\n",
       "      <td>2008</td>\n",
       "      <td>4</td>\n",
       "    </tr>\n",
       "    <tr>\n",
       "      <th>3</th>\n",
       "      <td>SoulCalibur</td>\n",
       "      <td>Dreamcast</td>\n",
       "      <td>This is a tale of souls and swords, transcendi...</td>\n",
       "      <td>1</td>\n",
       "      <td>8.4</td>\n",
       "      <td>1999</td>\n",
       "      <td>9</td>\n",
       "    </tr>\n",
       "    <tr>\n",
       "      <th>4</th>\n",
       "      <td>Grand Theft Auto IV</td>\n",
       "      <td>Xbox 360</td>\n",
       "      <td>What does the American Dream mean today? For ...</td>\n",
       "      <td>1</td>\n",
       "      <td>7.9</td>\n",
       "      <td>2008</td>\n",
       "      <td>4</td>\n",
       "    </tr>\n",
       "  </tbody>\n",
       "</table>\n",
       "</div>"
      ],
      "text/plain": [
       "                                   name        platform  \\\n",
       "0  The Legend of Zelda: Ocarina of Time     Nintendo 64   \n",
       "1              Tony Hawk's Pro Skater 2     PlayStation   \n",
       "2                   Grand Theft Auto IV   PlayStation 3   \n",
       "3                           SoulCalibur       Dreamcast   \n",
       "4                   Grand Theft Auto IV        Xbox 360   \n",
       "\n",
       "                                             summary  meta_score  user_review  \\\n",
       "0  As a young boy, Link is tricked by Ganondorf, ...           1          9.1   \n",
       "1  As most major publishers' development efforts ...           1          7.4   \n",
       "2   What does the American Dream mean today? For ...           1          7.7   \n",
       "3  This is a tale of souls and swords, transcendi...           1          8.4   \n",
       "4   What does the American Dream mean today? For ...           1          7.9   \n",
       "\n",
       "   release_year  release_month  \n",
       "0          1998             11  \n",
       "1          2000              9  \n",
       "2          2008              4  \n",
       "3          1999              9  \n",
       "4          2008              4  "
      ]
     },
     "execution_count": 49,
     "metadata": {},
     "output_type": "execute_result"
    }
   ],
   "source": [
    "games.head()"
   ]
  },
  {
   "cell_type": "markdown",
   "id": "b737ffab",
   "metadata": {},
   "source": [
    "The summary is now just a clean paragraph without any extra brackets that are redundant. All that's left is an easy-to-read paragraph."
   ]
  },
  {
   "cell_type": "markdown",
   "id": "5c7c64c1",
   "metadata": {},
   "source": [
    "# Dropping Redundant Columns"
   ]
  },
  {
   "cell_type": "code",
   "execution_count": 50,
   "id": "035a5c11",
   "metadata": {},
   "outputs": [
    {
     "data": {
      "text/html": [
       "<div>\n",
       "<style scoped>\n",
       "    .dataframe tbody tr th:only-of-type {\n",
       "        vertical-align: middle;\n",
       "    }\n",
       "\n",
       "    .dataframe tbody tr th {\n",
       "        vertical-align: top;\n",
       "    }\n",
       "\n",
       "    .dataframe thead th {\n",
       "        text-align: right;\n",
       "    }\n",
       "</style>\n",
       "<table border=\"1\" class=\"dataframe\">\n",
       "  <thead>\n",
       "    <tr style=\"text-align: right;\">\n",
       "      <th></th>\n",
       "      <th>summary</th>\n",
       "      <th>meta_score</th>\n",
       "    </tr>\n",
       "  </thead>\n",
       "  <tbody>\n",
       "    <tr>\n",
       "      <th>0</th>\n",
       "      <td>As a young boy, Link is tricked by Ganondorf, ...</td>\n",
       "      <td>1</td>\n",
       "    </tr>\n",
       "    <tr>\n",
       "      <th>1</th>\n",
       "      <td>As most major publishers' development efforts ...</td>\n",
       "      <td>1</td>\n",
       "    </tr>\n",
       "    <tr>\n",
       "      <th>2</th>\n",
       "      <td>What does the American Dream mean today? For ...</td>\n",
       "      <td>1</td>\n",
       "    </tr>\n",
       "    <tr>\n",
       "      <th>3</th>\n",
       "      <td>This is a tale of souls and swords, transcendi...</td>\n",
       "      <td>1</td>\n",
       "    </tr>\n",
       "    <tr>\n",
       "      <th>4</th>\n",
       "      <td>What does the American Dream mean today? For ...</td>\n",
       "      <td>1</td>\n",
       "    </tr>\n",
       "  </tbody>\n",
       "</table>\n",
       "</div>"
      ],
      "text/plain": [
       "                                             summary  meta_score\n",
       "0  As a young boy, Link is tricked by Ganondorf, ...           1\n",
       "1  As most major publishers' development efforts ...           1\n",
       "2   What does the American Dream mean today? For ...           1\n",
       "3  This is a tale of souls and swords, transcendi...           1\n",
       "4   What does the American Dream mean today? For ...           1"
      ]
     },
     "execution_count": 50,
     "metadata": {},
     "output_type": "execute_result"
    }
   ],
   "source": [
    "# Drop Columns\n",
    "games= games.drop(columns=['name', 'user_review', 'release_year', 'release_month', 'platform'])\n",
    "games.head()"
   ]
  },
  {
   "cell_type": "code",
   "execution_count": 51,
   "id": "0d52e782",
   "metadata": {},
   "outputs": [
    {
     "data": {
      "text/plain": [
       "(17776, 2)"
      ]
     },
     "execution_count": 51,
     "metadata": {},
     "output_type": "execute_result"
    }
   ],
   "source": [
    "games.shape"
   ]
  },
  {
   "cell_type": "code",
   "execution_count": 52,
   "id": "c62a653a",
   "metadata": {},
   "outputs": [
    {
     "data": {
      "text/plain": [
       "summary       0\n",
       "meta_score    0\n",
       "dtype: int64"
      ]
     },
     "execution_count": 52,
     "metadata": {},
     "output_type": "execute_result"
    }
   ],
   "source": [
    "games.isna().sum()"
   ]
  },
  {
   "cell_type": "markdown",
   "id": "5b903c1c",
   "metadata": {},
   "source": [
    "# Modeling"
   ]
  },
  {
   "cell_type": "code",
   "execution_count": 53,
   "id": "9a556ad1",
   "metadata": {},
   "outputs": [],
   "source": [
    "import nltk\n",
    "import string\n",
    "from nltk.stem import PorterStemmer"
   ]
  },
  {
   "cell_type": "code",
   "execution_count": 54,
   "id": "a632c20c",
   "metadata": {},
   "outputs": [
    {
     "name": "stdout",
     "output_type": "stream",
     "text": [
      "!\"#$%&'()*+,-./:;<=>?@[\\]^_`{|}~\n"
     ]
    }
   ],
   "source": [
    "# import string & lists punctuations\n",
    "print(string.punctuation)"
   ]
  },
  {
   "cell_type": "code",
   "execution_count": 55,
   "id": "cd53b532",
   "metadata": {},
   "outputs": [],
   "source": [
    "stemmer = nltk.stem.PorterStemmer()"
   ]
  },
  {
   "cell_type": "markdown",
   "id": "442d58a4",
   "metadata": {},
   "source": [
    "### Stopwords"
   ]
  },
  {
   "cell_type": "code",
   "execution_count": 56,
   "id": "1f08af36",
   "metadata": {},
   "outputs": [
    {
     "name": "stderr",
     "output_type": "stream",
     "text": [
      "[nltk_data] Downloading package stopwords to\n",
      "[nltk_data]     C:\\Users\\rkrav\\AppData\\Roaming\\nltk_data...\n",
      "[nltk_data]   Package stopwords is already up-to-date!\n"
     ]
    }
   ],
   "source": [
    "nltk.download('stopwords')\n",
    "from nltk.corpus import stopwords\n",
    "\n",
    "ENGLISH_STOP_WORDS = stopwords.words('english')"
   ]
  },
  {
   "cell_type": "code",
   "execution_count": 57,
   "id": "2be217ca",
   "metadata": {},
   "outputs": [
    {
     "name": "stdout",
     "output_type": "stream",
     "text": [
      "['i', 'me', 'my', 'myself', 'we', 'our', 'ours', 'ourselves', 'you', \"you're\", \"you've\", \"you'll\", \"you'd\", 'your', 'yours', 'yourself', 'yourselves', 'he', 'him', 'his', 'himself', 'she', \"she's\", 'her', 'hers', 'herself', 'it', \"it's\", 'its', 'itself', 'they', 'them', 'their', 'theirs', 'themselves', 'what', 'which', 'who', 'whom', 'this', 'that', \"that'll\", 'these', 'those', 'am', 'is', 'are', 'was', 'were', 'be', 'been', 'being', 'have', 'has', 'had', 'having', 'do', 'does', 'did', 'doing', 'a', 'an', 'the', 'and', 'but', 'if', 'or', 'because', 'as', 'until', 'while', 'of', 'at', 'by', 'for', 'with', 'about', 'against', 'between', 'into', 'through', 'during', 'before', 'after', 'above', 'below', 'to', 'from', 'up', 'down', 'in', 'out', 'on', 'off', 'over', 'under', 'again', 'further', 'then', 'once', 'here', 'there', 'when', 'where', 'why', 'how', 'all', 'any', 'both', 'each', 'few', 'more', 'most', 'other', 'some', 'such', 'no', 'nor', 'not', 'only', 'own', 'same', 'so', 'than', 'too', 'very', 's', 't', 'can', 'will', 'just', 'don', \"don't\", 'should', \"should've\", 'now', 'd', 'll', 'm', 'o', 're', 've', 'y', 'ain', 'aren', \"aren't\", 'couldn', \"couldn't\", 'didn', \"didn't\", 'doesn', \"doesn't\", 'hadn', \"hadn't\", 'hasn', \"hasn't\", 'haven', \"haven't\", 'isn', \"isn't\", 'ma', 'mightn', \"mightn't\", 'mustn', \"mustn't\", 'needn', \"needn't\", 'shan', \"shan't\", 'shouldn', \"shouldn't\", 'wasn', \"wasn't\", 'weren', \"weren't\", 'won', \"won't\", 'wouldn', \"wouldn't\"]\n"
     ]
    }
   ],
   "source": [
    "print(ENGLISH_STOP_WORDS)"
   ]
  },
  {
   "cell_type": "code",
   "execution_count": 58,
   "id": "f8769b40",
   "metadata": {},
   "outputs": [],
   "source": [
    " def my_tokenizer(sentence):\n",
    "    # remove punctuation and set to lower case\n",
    "    for punctuation_mark in string.punctuation:\n",
    "        sentence = sentence.replace(punctuation_mark,'').lower()\n",
    "\n",
    "    # split sentence into words\n",
    "    listofwords = sentence.split(' ')\n",
    "    listofstemmed_words = []\n",
    "    \n",
    "    # remove stopwords and any tokens that are just empty strings\n",
    "    for word in listofwords:\n",
    "        if (not word in ENGLISH_STOP_WORDS) and (word!=''):\n",
    "            # Stem words\n",
    "            stemmed_word = stemmer.stem(word)\n",
    "            listofstemmed_words.append(stemmed_word)\n",
    "\n",
    "    return listofstemmed_words"
   ]
  },
  {
   "cell_type": "markdown",
   "id": "7f44cf18",
   "metadata": {},
   "source": [
    "## Define Dependent and Independent variable"
   ]
  },
  {
   "cell_type": "code",
   "execution_count": 59,
   "id": "ceabb269",
   "metadata": {},
   "outputs": [],
   "source": [
    "y=games['meta_score']\n",
    "X=games['summary']"
   ]
  },
  {
   "cell_type": "code",
   "execution_count": 60,
   "id": "584171db",
   "metadata": {},
   "outputs": [
    {
     "data": {
      "text/plain": [
       "(17776,)"
      ]
     },
     "execution_count": 60,
     "metadata": {},
     "output_type": "execute_result"
    }
   ],
   "source": [
    "X.shape"
   ]
  },
  {
   "cell_type": "code",
   "execution_count": 61,
   "id": "f05af72f",
   "metadata": {},
   "outputs": [
    {
     "data": {
      "text/plain": [
       "(17776,)"
      ]
     },
     "execution_count": 61,
     "metadata": {},
     "output_type": "execute_result"
    }
   ],
   "source": [
    "y.shape"
   ]
  },
  {
   "cell_type": "code",
   "execution_count": 62,
   "id": "fe1f7f2a",
   "metadata": {},
   "outputs": [
    {
     "data": {
      "text/plain": [
       "0    As a young boy, Link is tricked by Ganondorf, ...\n",
       "1    As most major publishers' development efforts ...\n",
       "2     What does the American Dream mean today? For ...\n",
       "3    This is a tale of souls and swords, transcendi...\n",
       "4     What does the American Dream mean today? For ...\n",
       "Name: summary, dtype: object"
      ]
     },
     "execution_count": 62,
     "metadata": {},
     "output_type": "execute_result"
    }
   ],
   "source": [
    "X.head()"
   ]
  },
  {
   "cell_type": "code",
   "execution_count": 63,
   "id": "89f6a8d2",
   "metadata": {},
   "outputs": [
    {
     "data": {
      "text/plain": [
       "0    1\n",
       "1    1\n",
       "2    1\n",
       "3    1\n",
       "4    1\n",
       "Name: meta_score, dtype: int32"
      ]
     },
     "execution_count": 63,
     "metadata": {},
     "output_type": "execute_result"
    }
   ],
   "source": [
    "y.head()"
   ]
  },
  {
   "cell_type": "code",
   "execution_count": 64,
   "id": "7f4d3168",
   "metadata": {},
   "outputs": [
    {
     "data": {
      "text/plain": [
       "array([1, 0])"
      ]
     },
     "execution_count": 64,
     "metadata": {},
     "output_type": "execute_result"
    }
   ],
   "source": [
    "y.unique()"
   ]
  },
  {
   "cell_type": "markdown",
   "id": "475e52f7",
   "metadata": {},
   "source": [
    "# Train Test Split"
   ]
  },
  {
   "cell_type": "code",
   "execution_count": 65,
   "id": "a8758697",
   "metadata": {},
   "outputs": [],
   "source": [
    "from sklearn.model_selection import train_test_split"
   ]
  },
  {
   "cell_type": "code",
   "execution_count": 66,
   "id": "fe4e6ff7",
   "metadata": {},
   "outputs": [],
   "source": [
    "# Setting test size to 20%, and training at 80%\n",
    "X_train, X_test, y_train, y_test = train_test_split(X, y, test_size=0.20, random_state=123)"
   ]
  },
  {
   "cell_type": "code",
   "execution_count": 67,
   "id": "57bb799e",
   "metadata": {},
   "outputs": [
    {
     "data": {
      "text/plain": [
       "(14220,)"
      ]
     },
     "execution_count": 67,
     "metadata": {},
     "output_type": "execute_result"
    }
   ],
   "source": [
    "X_train.shape"
   ]
  },
  {
   "cell_type": "code",
   "execution_count": 68,
   "id": "bdbeb822",
   "metadata": {},
   "outputs": [
    {
     "data": {
      "text/plain": [
       "(3556,)"
      ]
     },
     "execution_count": 68,
     "metadata": {},
     "output_type": "execute_result"
    }
   ],
   "source": [
    "X_test.shape"
   ]
  },
  {
   "cell_type": "code",
   "execution_count": 69,
   "id": "8718f238",
   "metadata": {},
   "outputs": [
    {
     "data": {
      "text/plain": [
       "(14220,)"
      ]
     },
     "execution_count": 69,
     "metadata": {},
     "output_type": "execute_result"
    }
   ],
   "source": [
    "y_train.shape"
   ]
  },
  {
   "cell_type": "code",
   "execution_count": 70,
   "id": "96e3104a",
   "metadata": {},
   "outputs": [
    {
     "data": {
      "text/plain": [
       "(3556,)"
      ]
     },
     "execution_count": 70,
     "metadata": {},
     "output_type": "execute_result"
    }
   ],
   "source": [
    "y_test.shape"
   ]
  },
  {
   "cell_type": "code",
   "execution_count": 71,
   "id": "fae366ac",
   "metadata": {},
   "outputs": [],
   "source": [
    "import scipy.sparse\n",
    "from sklearn.feature_extraction.text import TfidfVectorizer\n"
   ]
  },
  {
   "cell_type": "code",
   "execution_count": 72,
   "id": "06198061",
   "metadata": {},
   "outputs": [],
   "source": [
    "tfidf_dummy = TfidfVectorizer(min_df=5,tokenizer=my_tokenizer) \n",
    "\n",
    "# Fit tfidf vectorizer\n",
    "tfidf_dummy.fit(X_train)\n",
    "\n",
    "# Transform\n",
    "X_train_dummy_t = tfidf_dummy.transform(X_train)\n",
    "X_test_dummy_t = tfidf_dummy.transform(X_test)"
   ]
  },
  {
   "cell_type": "code",
   "execution_count": 73,
   "id": "bcd4b00e",
   "metadata": {},
   "outputs": [
    {
     "data": {
      "text/plain": [
       "(14220, 9399)"
      ]
     },
     "execution_count": 73,
     "metadata": {},
     "output_type": "execute_result"
    }
   ],
   "source": [
    "X_train_dummy_t.shape"
   ]
  },
  {
   "cell_type": "code",
   "execution_count": 74,
   "id": "5776dc9e",
   "metadata": {},
   "outputs": [],
   "source": [
    "from sklearn.dummy import DummyClassifier"
   ]
  },
  {
   "cell_type": "code",
   "execution_count": 75,
   "id": "2558b466",
   "metadata": {},
   "outputs": [],
   "source": [
    "baseline = DummyClassifier() \n",
    "baseline.fit(X_train_dummy_t, y_train)\n",
    "\n",
    "# Make predictions\n",
    "y_pred_baseline_t = baseline.predict(X_test_dummy_t)"
   ]
  },
  {
   "cell_type": "code",
   "execution_count": 76,
   "id": "3dd050d4",
   "metadata": {},
   "outputs": [],
   "source": [
    "from sklearn.metrics import plot_confusion_matrix, confusion_matrix\n",
    "from sklearn.metrics import precision_score\n",
    "from sklearn.metrics import recall_score\n",
    "from sklearn.metrics import f1_score\n",
    "from sklearn.metrics import accuracy_score\n",
    "from sklearn.metrics import make_scorer\n",
    "from sklearn.metrics import classification_report"
   ]
  },
  {
   "cell_type": "code",
   "execution_count": 77,
   "id": "2c0bab37",
   "metadata": {},
   "outputs": [
    {
     "data": {
      "text/plain": [
       "52.05"
      ]
     },
     "execution_count": 77,
     "metadata": {},
     "output_type": "execute_result"
    }
   ],
   "source": [
    "round(accuracy_score(y_test, y_pred_baseline_t)*100, 2)"
   ]
  },
  {
   "cell_type": "markdown",
   "id": "aee0c91a",
   "metadata": {},
   "source": [
    "# Dummy Classification Report"
   ]
  },
  {
   "cell_type": "code",
   "execution_count": 78,
   "id": "1e8e652e",
   "metadata": {},
   "outputs": [
    {
     "name": "stdout",
     "output_type": "stream",
     "text": [
      "Classification Report: Dummy Classifier \n",
      "=======================================================\n",
      "\n",
      "              precision    recall  f1-score   support\n",
      "\n",
      "           0       0.00      0.00      0.00      1705\n",
      "           1       0.52      1.00      0.68      1851\n",
      "\n",
      "    accuracy                           0.52      3556\n",
      "   macro avg       0.26      0.50      0.34      3556\n",
      "weighted avg       0.27      0.52      0.36      3556\n",
      "\n",
      "\n",
      "=======================================================\n",
      "\n"
     ]
    }
   ],
   "source": [
    "# Classification Report \n",
    "\n",
    "print_line = \"\\n=======================================================\\n\"\n",
    "print(\"Classification Report: Dummy Classifier\", print_line)\n",
    "class_report_baseline = classification_report(y_test, y_pred_baseline_t)\n",
    "print(class_report_baseline)\n",
    "print(print_line)"
   ]
  },
  {
   "cell_type": "code",
   "execution_count": 79,
   "id": "8302fab8",
   "metadata": {},
   "outputs": [
    {
     "data": {
      "text/plain": [
       "<sklearn.metrics._plot.confusion_matrix.ConfusionMatrixDisplay at 0x24f8cf55a30>"
      ]
     },
     "execution_count": 79,
     "metadata": {},
     "output_type": "execute_result"
    },
    {
     "data": {
      "image/png": "[encoded data removed]",
      "text/plain": [
       "<Figure size 432x288 with 2 Axes>"
      ]
     },
     "metadata": {
      "needs_background": "light"
     },
     "output_type": "display_data"
    }
   ],
   "source": [
    "plot_confusion_matrix(baseline, X_test_dummy_t, y_test)"
   ]
  },
  {
   "cell_type": "code",
   "execution_count": null,
   "id": "b73dfdc5",
   "metadata": {},
   "outputs": [],
   "source": []
  }
 ],
 "metadata": {
  "kernelspec": {
   "display_name": "Python 3 (ipykernel)",
   "language": "python",
   "name": "python3"
  },
  "language_info": {
   "codemirror_mode": {
    "name": "ipython",
    "version": 3
   },
   "file_extension": ".py",
   "mimetype": "text/x-python",
   "name": "python",
   "nbconvert_exporter": "python",
   "pygments_lexer": "ipython3",
   "version": "3.8.12"
  }
 },
 "nbformat": 4,
 "nbformat_minor": 5
}
